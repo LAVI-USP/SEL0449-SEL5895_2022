{
  "cells": [
    {
      "cell_type": "markdown",
      "metadata": {
        "id": "kGlmyFQMaR-U"
      },
      "source": [
        "# Lista de Exercício 6\n",
        "### Processamento Digital de Imagens (SEL0449/SEL5895)\n",
        "\n",
        "**Instruções:**\n",
        "\n",
        " 1. Esta lista consiste em 3 exercícios.\n",
        " 1. Deve-se colocar comentários nos códigos desenvolvidos.\n",
        " 1. As perguntas devem ser respondidas também como comentários no arquivo.\n",
        " 1. Colocar seu nome e número USP abaixo.\n",
        " 1. Quaisquer problemas na execução das listas, entrar em contato com os monitores.\n",
        " 1. Depois de terminado os exercícios, deve ser gerado um arquivo **extensão .ipynb** para ser enviado ao professor pelo E-DISCIPLINAS da disciplina até a data máxima de entrega.\n",
        " 1. Caso não seja enviado, o aluno ficará sem nota.\n",
        "\n",
        "\n",
        "---\n",
        "\n",
        "\n",
        "\n",
        " <table class=\"tfo-notebook-buttons\" align=\"left\">\n",
        "  <td>\n",
        "    <a target=\"_blank\" href=\"https://colab.research.google.com/github/LAVI-USP/SEL0449-SEL5895_2022/blob/main/praticas/Lista_de_Exercicio_6.ipynb\"><img src=\"https://www.tensorflow.org/images/colab_logo_32px.png\" />Executar no Google Colab</a>\n",
        "  </td>\n",
        "  <td>\n",
        "    <a target=\"_blank\" href=\"https://github.com/LAVI-USP/SEL0449-SEL5895_2022/raw/main/praticas/Lista_de_Exercicio_6.ipynb\"><img src=\"https://www.tensorflow.org/images/GitHub-Mark-32px.png\" />Ver codigo fonte no GitHub</a>\n",
        "  </td>\n",
        "</table>\n"
      ]
    },
    {
      "cell_type": "markdown",
      "metadata": {
        "id": "L3qYz1dB-tlT"
      },
      "source": [
        "`Nome: `\n",
        "\n",
        "`Número USP: `"
      ]
    },
    {
      "cell_type": "markdown",
      "metadata": {
        "id": "U7nh3hUyosgL"
      },
      "source": [
        "#### **Atenção**: os códigos abaixo são para fazer o download das imagens (EXECUTE-OS). Os mesmos não fazem parte dessa prática. "
      ]
    },
    {
      "cell_type": "code",
      "execution_count": 1,
      "metadata": {
        "id": "F11mW7OzTPH6"
      },
      "outputs": [],
      "source": [
        "import urllib.request\n",
        "\n",
        "try:\n",
        "  urllib.request.urlretrieve(\"https://github.com/LAVI-USP/SEL0449-SEL5895_2022/raw/main/imagens/pratica_06/hill.tif\", \"hill.tif\")\n",
        "except:\n",
        "  print(\"[ERRO] Não foi possível fazer o download das imagens dessa prática. Entre em contato com o monitor\")\n",
        "\n",
        "try:\n",
        "  urllib.request.urlretrieve(\"https://github.com/LAVI-USP/SEL0449-SEL5895_2022/raw/main/imagens/pratica_06/hiIzt.png\", \"car.png\")\n",
        "except:\n",
        "  print(\"[ERRO] Não foi possível fazer o download das imagens dessa prática. Entre em contato com o monitor\")\n",
        "\n",
        "try:\n",
        "  urllib.request.urlretrieve(\"https://github.com/LAVI-USP/SEL0449-SEL5895_2022/raw/main/imagens/pratica_06/parede.tif\", \"parede.tif\")\n",
        "except:\n",
        "  print(\"[ERRO] Não foi possível fazer o download das imagens dessa prática. Entre em contato com o monitor\")\n",
        "\n"
      ]
    },
    {
      "cell_type": "markdown",
      "metadata": {
        "id": "b9uBe7nevota"
      },
      "source": [
        "### Introdução:\n",
        "\n",
        "Nesta lista de exercícios vamos estudar sobre alguns filtros que podem ser aplicados no domínio da frequência visando melhorar a qualidade das imagens. Lembre-se que o sistemas de coordenadas no domínio da frequência é um pouco diferente:\n",
        "\n",
        "<center><img src=\"https://github.com/LAVI-USP/SEL0449-SEL5895_2022/raw/main/imagens/pratica_06/ExemploCoordenadas.png\" ></center>\n",
        "\n",
        "<center><caption><b>Figura 1:</b> Sistemas de coordenadas no domínio original da imagem (esquerda) e domínio de Fourie (direita).</b></caption></center>\n",
        "\n",
        "\n",
        " Primeiramente, vamos importar as bibliotecas que iremos utilizar:"
      ]
    },
    {
      "cell_type": "code",
      "execution_count": 2,
      "metadata": {
        "id": "xnKV2As4aCX1"
      },
      "outputs": [],
      "source": [
        "import numpy as np\n",
        "import matplotlib.pyplot as plt\n",
        "import cv2 as cv"
      ]
    },
    {
      "cell_type": "markdown",
      "metadata": {
        "id": "ppupxqIr71zm"
      },
      "source": [
        "### 1) Filtro notch reject (Nota: 3,0):\n",
        "\n",
        "Em qual situação devo utilizar um filtro notch? Filtros notch são frequentemente utilizados para rastrear e retirar componentes senoidais de sinais. Nas imagens isto não é diferente. \n",
        "\n",
        "Filtragem notch reject é usada para eliminar efeitos de ruídos periódicos. Estes filtros são capazes de rejeitar regiões específicas em torno de uma\n",
        "frequência pré-definida, assim, sua utilização é recomendada quando o sinal a ser atenuado é bem definido.\n",
        "\n",
        "<center><img src=\"https://github.com/LAVI-USP/SEL0449-SEL5895_2022/raw/main/imagens/pratica_06/ExemploFiltroNotch2.png\" width=\"380\" height=\"380\"></center>\n",
        "\n",
        "<center><caption><b> Figura 2:</b> Exemplo de filtragem com Notch em ruído periódico.</b></caption></center>\n",
        "<caption><center> </center></caption>\n",
        "\n",
        "**Exercício:**\n",
        "\n",
        "Nesta etapa, vamos trabalhar com a imagem ```car.png```. Considere que a imagem foi digitalizada com resolução de 400 DPI. \n",
        "\n",
        "1. Carregue o arquivo de imagem ```car.png``` e mostre-a.\n",
        "2. Passe esta imagem para o domínio da frequência (Espectro de Fourier) utilizando as funções ```np.fft.fft2``` e ```np.fft.fftshift``` (**Lembre-se do padding.**). Em seguida, mostre a magnitude do espectro.\n",
        "3. Para visualizar e compreender melhor, vamos dar um \"zoom\" na imagem no domínio da frequência. Selecione a região ```[0:800,200:360]``` e mostre o resultado desse corte. Comente o que são os \"pontos brancos mais evidentes\" no espectro.\n",
        "4.  Faça um filtro do tipo notch reject butterworth de ordem ```ord = 4``` com raio ```D0 = 8``` para remover o ruído da seguinte forma:\n",
        " *   4 pontos mais próximos do centro do espectro\n",
        "     *   Encontre o centro dos \"pontos brancos\" mais próximo ao centro do espectro (pode ser de forma empírica/visual)\n",
        "     *   Crie o filtro com base no centro desses 4 pontos encontrados\n",
        " *   8 pontos mais próximos do centro do espectro\n",
        "     *   Encontre o centro dos \"pontos brancos\" mais próximo ao centro do espectro (pode ser de forma empírica/visual)\n",
        "     *   Crie o filtro com base no centro desses 8 pontos encontrados\n",
        "\n",
        " Os centros do filtro devem coincidir com o centro dos pontos encontrados no \n",
        "espectro da frequência.\n",
        "\n",
        "5. Para cada situação, moste a magnitude do filtro criado. Após aplicação do filtro construído, mostre, também, a magnitude do espectro de Fourier resultante, bem como a imagem filtrada, agora, em seu domínio original.\n",
        "6. Comente os resultados\n"
      ]
    },
    {
      "cell_type": "code",
      "execution_count": 3,
      "metadata": {
        "id": "SmRKAUAm6akZ"
      },
      "outputs": [],
      "source": [
        "## -- Seu código começa AQUI -- ##\n",
        "\n",
        "## -- Seu código termina AQUI -- ##\n",
        "\n",
        "## Comentários:"
      ]
    },
    {
      "cell_type": "markdown",
      "metadata": {
        "id": "LfvvkPYKCNgV"
      },
      "source": [
        "### 2) Realce (Nota: 3,0):\n",
        "\n",
        "Nesta parte da lista iremos trabalhar com o filtro de realce. Para isso, utilizaremos a imagem ```parede.tif```. Considere que a imagem foi digitalizada com resolução de 500 DPI.\n",
        "Dica: Como este filtro realça principamente os detalhes, é interessante analisar as imagens sempre com ZOOM!\n",
        "\n",
        "1. Carregue a imagem “parede.tif” e mostre-a.\n",
        "2. Visualizar a imagem no domínio da frequência (Espectro de Fourier). **Lembre-se do padding.**\n",
        "4. Criar um filtro de realce (30%), utilizando passa-alta do tipo “Butterworth” (n = 2), com frequência de corte 3,0 ciclos/mm. Aplicar na imagem e verificar o resultado.\n",
        "5. Criar um filtro do tipo \"Gaussiano\", no domínio da frequência, que realce em 40% todas as frequências entre 2,0 e 4,0 ciclos/mm. Aplicar na imagem e verificar o resultado no domínio do espaço.\n",
        "\n"
      ]
    },
    {
      "cell_type": "code",
      "execution_count": 4,
      "metadata": {
        "id": "L3dZm9Qec3-S"
      },
      "outputs": [],
      "source": [
        "## -- Seu código começa AQUI -- ##\n",
        "\n",
        "## -- Seu código termina AQUI -- ##"
      ]
    },
    {
      "cell_type": "markdown",
      "metadata": {
        "id": "dUOtV__L8h6n"
      },
      "source": [
        "### 3) Filtragem Homomórfica (Nota: 4,0)\n",
        "\n",
        "Agora vamos trabalhar o realce corrigindo uma imagem com iluminação não uniforme. Para isso, vamos trabalhar com a figura \"***hill.tif***\". Considere que essa imagem foi digitalizada com resolução de 300 DPI.\n",
        "\n",
        "1. Carregue o arquivo de imagem ```hill.tif``` e mostre-a.\n",
        "2. Aplique uma correção Logarítmica à imagem original a fim de fazer uma correção de contraste. *Dica: após essa correção, converta a imagem_Log para float32*.\n",
        "3. Construa padding simétrico (espelhamento) para eliminar o efeito de *wrap around*. Para fazer isso, utilize a função ```np.pad```.\n",
        "4. Agora, vamos passar a imagem com *padding* para o domínio da frequência e visualizar o espectro de frequências.\n",
        "5. Em seguida, crie um filtro do tipo homomórfico, com ```γL = 0,5``` e ```γH = 1,5```, com variação Gaussiana e com frequência de corte de 2,0 ciclos/mm e aplique na imagem. Mostre o filtro construido.\n",
        "6. Aplique o filtro homomórfico criado sobre a imagem no domínio da frequência.\n",
        "7. Aplique a transformada inversa para retornar a imagem ao domínio original.\n",
        "8. Aplique uma correção exponencial (```np.exp```) para corrigir a transformação logarítmica no início. Por fim, faça um alargamento de contraste sobre a imagem filtrada no domínio original e mostre-a.\n",
        "9. Comentar os resultados encontrados após aplicação dos filtros.\n",
        "\n",
        "\n"
      ]
    },
    {
      "cell_type": "code",
      "execution_count": 5,
      "metadata": {
        "id": "UTXJYHux9XCu"
      },
      "outputs": [],
      "source": [
        "## -- Seu código começa AQUI -- ##\n",
        "\n",
        "## -- Seu código termina AQUI -- ##\n",
        "\n",
        "## Comentários:"
      ]
    }
  ],
  "metadata": {
    "colab": {
      "collapsed_sections": [
        "U7nh3hUyosgL"
      ],
      "name": "Lista_de_Exercicio_6.ipynb",
      "provenance": []
    },
    "kernelspec": {
      "display_name": "Python 3",
      "language": "python",
      "name": "python3"
    },
    "language_info": {
      "codemirror_mode": {
        "name": "ipython",
        "version": 3
      },
      "file_extension": ".py",
      "mimetype": "text/x-python",
      "name": "python",
      "nbconvert_exporter": "python",
      "pygments_lexer": "ipython3",
      "version": "3.7.7"
    }
  },
  "nbformat": 4,
  "nbformat_minor": 0
}
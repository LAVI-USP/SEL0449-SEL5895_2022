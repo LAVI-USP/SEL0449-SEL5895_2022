{
  "nbformat": 4,
  "nbformat_minor": 0,
  "metadata": {
    "colab": {
      "name": "Lista_de_Exercicio_5.ipynb",
      "provenance": [],
      "collapsed_sections": [
        "NyvxHviMpShq"
      ]
    },
    "kernelspec": {
      "display_name": "Python 3",
      "name": "python3"
    }
  },
  "cells": [
    {
      "cell_type": "markdown",
      "metadata": {
        "id": "kGlmyFQMaR-U"
      },
      "source": [
        "# Lista de Exercício 5\n",
        "### Introdução ao Processamento Digital de Imagens (SEL0449/SEL5895)\n",
        "\n",
        "**Instruções:**\n",
        "\n",
        " 1. Esta lista consiste em 2 exercícios. O peso considerado para a nota final da lista está descrito ao lado do enunciado.\n",
        " 1. Deve-se colocar comentários nos códigos desenvolvidos.\n",
        " 1. As perguntas devem ser respondidas também como comentários no arquivo.\n",
        " 1. Colocar seu nome e número USP abaixo.\n",
        " 1. Quaisquer problemas na execução das listas, entrar em contato com os monitores.\n",
        " 1. Não retirar os enunciados da lista.\n",
        " 1. Depois de terminados os exercícios, deve ser gerado um arquivo **extensão .ipynb** para ser enviado ao professor pelo E-DISCIPLINAS da disciplina até a data máxima de entrega.\n",
        " 1. Caso não seja enviado, o aluno ficará sem nota.\n",
        "\n",
        "\n",
        "---\n",
        "\n",
        "\n",
        "\n",
        " <table class=\"tfo-notebook-buttons\" align=\"left\">\n",
        "  <td>\n",
        "    <a target=\"_blank\" href=\"https://colab.research.google.com/github/LAVI-USP/SEL0449-SEL5895_2022/blob/main/praticas/Lista_de_Exercicio_5.ipynb\"><img src=\"https://www.tensorflow.org/images/colab_logo_32px.png\" />Executar no Google Colab</a>\n",
        "  </td>\n",
        "  <td>\n",
        "    <a target=\"_blank\" href=\"https://github.com/LAVI-USP/SEL0449-SEL5895_2022/blob/main/praticas/Lista_de_Exercicio_5.ipynb\"><img src=\"https://www.tensorflow.org/images/GitHub-Mark-32px.png\" />Ver codigo fonte no GitHub</a>\n",
        "  </td>\n",
        "</table>\n"
      ]
    },
    {
      "cell_type": "markdown",
      "metadata": {
        "id": "L3qYz1dB-tlT"
      },
      "source": [
        "`Nome: `\n",
        "\n",
        "`Número USP: `"
      ]
    },
    {
      "cell_type": "markdown",
      "metadata": {
        "id": "b9uBe7nevota"
      },
      "source": [
        "### Introdução:\n",
        "\n",
        "Nesta lista de exercícios vamos estudar sobre filtros aplicados no domínio da frequência. Primeiramente vamos importar as bibliotecas que iremos utilizar:"
      ]
    },
    {
      "cell_type": "code",
      "metadata": {
        "id": "xnKV2As4aCX1"
      },
      "source": [
        "import numpy as np\n",
        "import matplotlib.pyplot as plt\n",
        "import cv2 as cv\n",
        "from mpl_toolkits import mplot3d"
      ],
      "execution_count": null,
      "outputs": []
    },
    {
      "cell_type": "markdown",
      "metadata": {
        "id": "NyvxHviMpShq"
      },
      "source": [
        "#### **Atenção**: os códigos abaixo são para fazer o download das imagens necessárias para a prática. EXECUTE-OS!"
      ]
    },
    {
      "cell_type": "code",
      "metadata": {
        "id": "Amk5CM273Afp"
      },
      "source": [
        "import urllib.request\n",
        "\n",
        "try:\n",
        "  urllib.request.urlretrieve(\"https://github.com/LAVI-USP/SEL0449-SEL5895_2022/blob/main/imagens/pratica_05/towerbridge.tif?raw=true\", \"towerbridge.tif\")\n",
        "except:\n",
        "  print(\"[ERRO] Não foi possível fazer o download das imagens dessa prática. Entre em contato com o monitor\")\n",
        "\n",
        "try:\n",
        "  urllib.request.urlretrieve(\"https://github.com/LAVI-USP/SEL0449-SEL5895_2022/blob/main/imagens/pratica_05/arvore_mod.tif?raw=true\", \"arvore_mod.tif\")\n",
        "except:\n",
        "  print(\"[ERRO] Não foi possível fazer o download das imagens dessa prática. Entre em contato com o monitor\")"
      ],
      "execution_count": null,
      "outputs": []
    },
    {
      "cell_type": "markdown",
      "metadata": {
        "id": "RDSMJOwBvL3u"
      },
      "source": [
        "### INTRODUÇÃO - Filtragem no domínio da frequência\n",
        "\n",
        "A filtragem no domínio da frequência consiste em modificar a transformada de Fourier de uma imagem e depois calcular a transformada inversa para obter o resultado processado.\n",
        "\n",
        "O grau de dificuldade na construção dos filtros diminui quando se trabalha no domínio da frequência, entretanto, a proximidade dos períodos na convolução pode causar o erro de wraparound (efeito de borda). Para solucionar esse problema, é necessário fazer um padding na imagem - lembrando que algoritmos DFT tendem a executar mais rapidamente arranjos de tamanho par, ou seja, normalmente se utiliza o dobro das dimensões M e N da imagem. As Figuras 1 e 2 ilustram os efeitos provocados, no borramento da imagem, tanto devido a não utilização de padding quanto da aplicação zero padding. \n",
        "\n",
        "Lembre-se que, afim de preservar informações sobre as bordas, normalmente utiliza-se do padding simétrico, e não o padding com zeros.\n",
        "\n",
        "\n",
        "<center><img src=\"https://github.com/LAVI-USP/SEL0449-SEL5895_2022/blob/main/imagens/pratica_05/wraparound.PNG?raw=true\" style=\"width:836px;height:266px;\"></center>\n",
        "\n",
        "<center><caption><b> Figura 1:</b> Periodicidade inerente às imagens 2D na utilização da DFT.</b></caption></center>\n",
        "<caption><center> Referência: Gonzalez and Woods, Digital Image Processing 3rd.</center></caption></br>\n",
        "\n",
        "\n",
        "<center><img src=\"https://github.com/LAVI-USP/SEL0449-SEL5895_2022/blob/main/imagens/pratica_05/wraparound_0.PNG?raw=true\" style=\"width:836px;height:266px;\"></center>\n",
        "\n",
        "<center><caption><b> Figura 2:</b> Em b, resultado do borramento de a sem zero padding. Em c, resultado do borramento de a com zero padding. </b></caption></center>\n",
        "<caption><center> Referência: Gonzalez and Woods, Digital Image Processing 3rd.</center></caption></br>\n",
        "\n",
        "A função [np.fft.ff2](https://numpy.org/doc/stable/reference/generated/numpy.fft.fft2.html) - utilizada na lista anterior - oferece, por meio do parâmetro s, a opção de preenchimento (padding), sendo (Mf,Nf) normalmente igual a (2*M, 2*N) tal que M e N representam as dimensões da imagem. Para mais detalhes, consulte a documentação.\n",
        "\n",
        "```python\n",
        "f = np.fft.fft2(img,s=(Mf,Nf))\n",
        "fshift = np.fft.fftshift(f)\n",
        "magnitude_spectrum = 20*np.log(np.abs(fshift)+1.)\n",
        "```\n",
        "\n",
        "Atenção! Note as novas dimensões do espectro de frequência. Após a transformada inversa, será necessário recortar a imagem, resultando na imagem com as dimensões originais M e N, descartando as informações adjacentes."
      ]
    },
    {
      "cell_type": "markdown",
      "metadata": {
        "id": "ppupxqIr71zm"
      },
      "source": [
        "### 1) Filtros PASSA-BAIXA E PASSA-ALTA no domínio da frequência (5.0/10.0)\n",
        "\n",
        "Bordas e outras transições abruptas de intensidade (como o ruído) em uma imagem contribuem significativamente para o conteúdo de alta frequência de sua transformada de Fourier. Dessa forma, a suavização (borramento) é obtida no domínio da frequência pela atenuação das altas frequências - filtros passa-baixa.\n",
        "\n",
        "Os filtros podem ser projetados de forma a apresentar transições mais abruptas ou mais suavizadas. Consideraremos apenas os filtros radialmente simétricos - deslocamento de fase zero - sendo D<sub>0</sub> o raio a partir da origem e n a ordem do filtro:\n",
        "<p></br>\n",
        "\n",
        "Filtro passa-baixa IDEAL:\n",
        "\n",
        "$$ H_{LPideal}(u,v) = 1,~se~D(u,v)~\\le~D0$$<br/>\n",
        "$$ H_{LPideal}(u,v) = 0,~se~D(u,v)~\\gt~D0$$<br/>\n",
        "\n",
        "Filtro passa-baixa BUTTERWORTH:\n",
        "\n",
        "$$ H_{LPButterworth}(u,v) = \\frac{1}{{1+\\big[\\frac{D(u,v)}{D_0}}\\big]^{2n}}$$<br/>\n",
        "\n",
        "Filtro passa-baixa GAUSSIANO:\n",
        "\n",
        "$$ H_{LPGaussiano}(u,v) = e^{\\frac{-D^2(u,v)}{2D_0^2}}$$<br/>\n",
        "\n",
        "Já o aguçamento das imagens pode ser obtido pela filtragem passa-alta, atenuando componentes de baixa frequência sem afetar as informações de alta frequência na transformada de Fourier. Os filtros passa-alta podem ser obtidos a partir dos respectivos passa-baixa, considerando a equação:\n",
        "\n",
        "$$ H_{HP}(u,v) = 1 - H_{LP}(u,v)$$<br/>\n",
        "\n",
        "\n",
        "**DICA:** para visualizar os filtros em plots 3D, você pode utilizar o toolkit já incluso na instalação da biblioteca matplotlib (incluso na importação inicial deste notebook). Para isto, é necessário manipular os dados do filtro, de forma que seja construída uma rede X-Y (contendo as coordenadas) em que serão plotadas as intensidades (Z). Considere um filtro de dimensões Mf e Nf e intensidades I. Para criar a rede, podemos utilizar o comando [np.linspace](https://numpy.org/doc/stable/reference/generated/numpy.linspace.html) tendo o 0 (zero) como valor inicial, Mf como valor final e com número de amostras equivalente a Mf. Da mesma forma com Nf.\n",
        "\n",
        "A seguir, um exemplo de subplot utilizando a função plot_wireframe e plot_surface. Consulte o [link](https://matplotlib.org/stable/tutorials/toolkits/mplot3d.html) para mais detalhes.\n",
        "\n",
        "```python\n",
        "x = np.linspace(0, Mf, Mf)\n",
        "y = np.linspace(0, Nf, Nf)\n",
        "\n",
        "X, Y = np.meshgrid(x, y)\n",
        "Z = I\n",
        "\n",
        "fig = plt.figure(figsize = (20,10))\n",
        "fig.suptitle('Filtros 3D')\n",
        "\n",
        "ax = fig.add_subplot(1, 2, 1, projection='3d')\n",
        "ax.plot_wireframe(X,Y,Z)\n",
        "ax.set_xlabel('x')\n",
        "ax.set_ylabel('y')\n",
        "ax.set_zlabel('z');\n",
        "ax.set_title('wireframe plot');\n",
        "\n",
        "ax = fig.add_subplot(1, 2, 2, projection='3d')\n",
        "ax.plot_surface(X, Y, Z, rstride=2, cstride=2,cmap='viridis', edgecolor='none')\n",
        "ax.set_xlabel('x')\n",
        "ax.set_ylabel('y')\n",
        "ax.set_zlabel('z');\n",
        "ax.set_title('surface plot');\n",
        "\n",
        "plt.show()\n",
        "```"
      ]
    },
    {
      "cell_type": "markdown",
      "metadata": {
        "id": "3wfqGqAhHKBA"
      },
      "source": [
        "\n",
        "Considerando que a imagem 'towerbridge.tif' foi digitalizada com **resolução de 300DPI**, realize as tarefas abaixo. **Atenção!** Indique sempre os cálculos realizados.\n",
        "\n",
        "**a.** Visualize a imagem original e o espectro de Fourier (domínio da frequência). **Lembre-se do padding.**"
      ]
    },
    {
      "cell_type": "code",
      "metadata": {
        "id": "Jv-lRHbqG9Cw"
      },
      "source": [
        "## -- Seu código começa AQUI -- ##\n",
        "\n",
        "## -- Seu código termina AQUI -- ##"
      ],
      "execution_count": null,
      "outputs": []
    },
    {
      "cell_type": "markdown",
      "metadata": {
        "id": "WWbdOv6GHCoH"
      },
      "source": [
        "\n",
        "**b.** Crie um filtro **passa-baixa circular do tipo \"Ideal\"** com frequência de corte igual a 1,5 ciclos/mm e aplique à imagem. Mostre a imagem original, a magnitude do filtro criado, a imagem filtrada e o espectro de frequências filtrado."
      ]
    },
    {
      "cell_type": "code",
      "metadata": {
        "id": "oJ8XJXhNHOpp"
      },
      "source": [
        "## -- Seu código começa AQUI -- ##\n",
        "\n",
        "## -- Seu código termina AQUI -- ##"
      ],
      "execution_count": null,
      "outputs": []
    },
    {
      "cell_type": "markdown",
      "metadata": {
        "id": "lJFB1mF0HE2-"
      },
      "source": [
        "**c.** Crie um filtro **passa-baixa circular do tipo \"Butterworth\"** com n=2 e frequência de corte igual a 1,5 ciclos/mm e aplique à imagem. Mostre a imagem original, a magnitude do filtro criado, a imagem filtrada e o espectro de frequências filtrado."
      ]
    },
    {
      "cell_type": "code",
      "metadata": {
        "id": "Y23X9qzEHPUO"
      },
      "source": [
        "## -- Seu código começa AQUI -- ##\n",
        "\n",
        "## -- Seu código termina AQUI -- ##"
      ],
      "execution_count": null,
      "outputs": []
    },
    {
      "cell_type": "markdown",
      "metadata": {
        "id": "nf02DDVKHGeQ"
      },
      "source": [
        "**d.** Crie um filtro **passa-baixa circular do tipo \"Gaussiano\"** com frequência de corte igual a 1,5 ciclos/mm e aplique à imagem.  Mostre a imagem original, a magnitude do filtro criado, a imagem filtrada e o espectro de frequências filtrado."
      ]
    },
    {
      "cell_type": "code",
      "metadata": {
        "id": "ruL620nxHQAB"
      },
      "source": [
        "## -- Seu código começa AQUI -- ##\n",
        "\n",
        "## -- Seu código termina AQUI -- ##"
      ],
      "execution_count": null,
      "outputs": []
    },
    {
      "cell_type": "markdown",
      "metadata": {
        "id": "i1Y69GEcHIS4"
      },
      "source": [
        "**e.** Crie os **filtros passa-alta** com as mesmas frequências de corte e características especificadas em b, c e d. Em cada um, mostre a imagem original, a magnitude do filtro criado, a imagem filtrada e o espectro de frequências filtrado. **COMENTE OS RESULTADOS ENCONTRADOS EM TODOS OS ITENS DESTE EXERCÍCIO.**"
      ]
    },
    {
      "cell_type": "code",
      "metadata": {
        "id": "GLH9SbfwHQug"
      },
      "source": [
        "## -- Seu código começa AQUI -- ##\n",
        "\n",
        "## -- Seu código termina AQUI -- ##"
      ],
      "execution_count": null,
      "outputs": []
    },
    {
      "cell_type": "code",
      "metadata": {
        "id": "Vpnl8QPoXo-a"
      },
      "source": [
        "## -- Seu código começa AQUI -- ##\n",
        "\n",
        "## -- Seu código termina AQUI -- ##"
      ],
      "execution_count": null,
      "outputs": []
    },
    {
      "cell_type": "code",
      "metadata": {
        "id": "qrpl7Yy7XpdY"
      },
      "source": [
        "## -- Seu código começa AQUI -- ##\n",
        "\n",
        "## -- Seu código termina AQUI -- ##"
      ],
      "execution_count": null,
      "outputs": []
    },
    {
      "cell_type": "code",
      "metadata": {
        "id": "qFzhQXpxZlQL"
      },
      "source": [
        "# COMENTÁRIOS:\n"
      ],
      "execution_count": null,
      "outputs": []
    },
    {
      "cell_type": "markdown",
      "metadata": {
        "id": "5Hgd8p2OHKPQ"
      },
      "source": [
        "**f.** Visualize os filtros PASSA-BAIXA e PASSA-ALTA criados (nos itens acima) em plots 3D (Wireframe e Surface)."
      ]
    },
    {
      "cell_type": "code",
      "metadata": {
        "id": "6rU_SHMDVzu3"
      },
      "source": [
        "## FILTROS IDEAIS\n",
        "## -- Seu código começa AQUI -- ##\n",
        "\n",
        "#Passa-baixa\n",
        "\n",
        "\n",
        "#Passa-alta\n",
        "\n",
        "\n",
        "## -- Seu código termina AQUI -- ##"
      ],
      "execution_count": null,
      "outputs": []
    },
    {
      "cell_type": "code",
      "metadata": {
        "id": "Idms5AtR9B5A"
      },
      "source": [
        "## FILTROS BUTTERWORTH\n",
        "## -- Seu código começa AQUI -- ##\n",
        "\n",
        "#Passa-baixa\n",
        "\n",
        "\n",
        "#Passa-alta\n",
        "\n",
        "\n",
        "## -- Seu código termina AQUI -- ##"
      ],
      "execution_count": null,
      "outputs": []
    },
    {
      "cell_type": "code",
      "metadata": {
        "id": "n7DNw951-jPf"
      },
      "source": [
        "## FILTROS GAUSSIANO\n",
        "## -- Seu código começa AQUI -- ##\n",
        "\n",
        "#Passa-baixa\n",
        "\n",
        "\n",
        "#Passa-alta\n",
        "\n",
        "\n",
        "## -- Seu código termina AQUI -- ##"
      ],
      "execution_count": null,
      "outputs": []
    },
    {
      "cell_type": "markdown",
      "metadata": {
        "id": "OcMh8xfE_EDX"
      },
      "source": [
        "### 2) Filtros PASSA-BANDA E REJEITA-BANDA no domínio da frequência (5.0/10.0)\n",
        "\n",
        "Existem algumas aplicações nas quais é interessante processar bandas específicas de frequências. Para tanto, utiliza-se filtros conhecidos como filtros rejeita-banda e passa-banda. Assim como mostrado anteriormente, a transição pode ser feita de modo abrupto ou suavizado. As equações a seguir referem-se a filtros rejeita-banda (BR de *bandreject*):\n",
        "\n",
        "Filtro rejeita-baixa IDEAL:\n",
        "\n",
        "$$ H_{BRideal}(u,v) = 0, \\;se\\;D_0 - \\frac{W}{2} \\le D \\le D_0 + \\frac{W}{2}$$<br/>\n",
        "$$ H_{BRideal}(u,v) = 1,\\; para\\;todos\\;outros\\;casos$$<br/>\n",
        "\n",
        "Filtro rejeita-baixa BUTTERWORTH:\n",
        "\n",
        "$$ H_{BRButterworth}(u,v) = \\frac{1}{1+\\big[\\frac{D \\cdot W}{D^2-D_0^2}\\big]^{2n}}$$<br/>\n",
        "\n",
        "Filtro rejeita-baixa GAUSSIANO:\n",
        "\n",
        "$$ H_{BRGaussiano}(u,v) = 1-e^{-\\big(\\frac{D^2-D_0^2}{D \\cdot W}\\big)^2}$$<br/>\n",
        "\n",
        "\n",
        "Um filtro passa-banda (BP de *bandpass*) é obtido a partir do respectivo rejeita-banda, conforme equação abaixo:\n",
        "\n",
        "$$ H_{BP}(u,v) = 1 - H_{BR}(u,v)$$<br/>\n",
        "\n"
      ]
    },
    {
      "cell_type": "markdown",
      "metadata": {
        "id": "EUt2eEZTGWqf"
      },
      "source": [
        "Considerando que a imagem 'arvore_mod.tif' foi digitalizada com **resolução de 400DPI**, realize as tarefas abaixo. **Atenção!** Indique sempre os cálculos realizados.\n",
        "\n",
        "**a.** Visualize a imagem original e o espectro de Fourier (domínio da frequência). **Lembre-se do padding.**"
      ]
    },
    {
      "cell_type": "code",
      "metadata": {
        "id": "_a0jI6T9Y4qg"
      },
      "source": [
        "## -- Seu código começa AQUI -- ##\n",
        "\n",
        "## -- Seu código termina AQUI -- ##"
      ],
      "execution_count": null,
      "outputs": []
    },
    {
      "cell_type": "markdown",
      "metadata": {
        "id": "hstSCB-JavJS"
      },
      "source": [
        "**b.** Encontre o centro do espectro de frequências. Plote um recorte central. Encontre o tamanho de recorte que permita melhor visualização dos pontos mais evidentes simétricos em relação ao centro."
      ]
    },
    {
      "cell_type": "code",
      "metadata": {
        "id": "WngxV4Xna7Mj"
      },
      "source": [
        "## -- Seu código começa AQUI -- ##\n",
        "\n",
        "## -- Seu código termina AQUI -- ##"
      ],
      "execution_count": null,
      "outputs": []
    },
    {
      "cell_type": "markdown",
      "metadata": {
        "id": "Lc5YbFa5Y48m"
      },
      "source": [
        "\n",
        "**c.** Crie um **filtro rejeita-banda circular do tipo \"ideal\"** para ser aplicado à imagem. Os parâmetros de frequência de corte em ciclos/mm e a largura de banda em ciclos/mm devem ser escolhidos preservando ao máximo o conteúdo da imagem. Utilize a referência dos pontos encontrados no exercício \"b\" acima para auxiliar na escolha dos parâmetros e comente justificando.\n",
        "\n",
        "Crie um **filtro passa-banda circular do tipo \"ideal\"** com os mesmos parâmetros de frequência de corte para visualizar as componentes removidas.\n",
        "\n",
        "Comente o resultado obtido."
      ]
    },
    {
      "cell_type": "code",
      "metadata": {
        "id": "T7UQb806Zaeg"
      },
      "source": [
        "## -- Seu código começa AQUI -- ##\n",
        "\n",
        "## -- Seu código termina AQUI -- ##\n",
        "\n",
        "# Comentários:"
      ],
      "execution_count": null,
      "outputs": []
    },
    {
      "cell_type": "markdown",
      "metadata": {
        "id": "EUASa6d1grLb"
      },
      "source": [
        "**d.** Visualize os filtros PASSA-BANDA e REJEITA-BANDA criados em plots 3D (Wireframe e Surface)."
      ]
    },
    {
      "cell_type": "code",
      "metadata": {
        "id": "7ijwVq_bieYM"
      },
      "source": [
        "## FILTROS IDEAIS\n",
        "## -- Seu código começa AQUI -- ##\n",
        "\n",
        "#Rejeita-banda\n",
        "\n",
        "#Passa-banda\n",
        "\n",
        "## -- Seu código termina AQUI -- ##"
      ],
      "execution_count": null,
      "outputs": []
    }
  ]
}
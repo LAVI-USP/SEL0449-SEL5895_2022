{
  "nbformat": 4,
  "nbformat_minor": 0,
  "metadata": {
    "colab": {
      "name": "Lista_de_Exercicio_7.ipynb",
      "provenance": [],
      "collapsed_sections": [
        "NyvxHviMpShq"
      ]
    },
    "kernelspec": {
      "display_name": "Python 3",
      "language": "python",
      "name": "python3"
    },
    "language_info": {
      "codemirror_mode": {
        "name": "ipython",
        "version": 3
      },
      "file_extension": ".py",
      "mimetype": "text/x-python",
      "name": "python",
      "nbconvert_exporter": "python",
      "pygments_lexer": "ipython3",
      "version": "3.7.7"
    }
  },
  "cells": [
    {
      "cell_type": "markdown",
      "metadata": {
        "id": "kGlmyFQMaR-U"
      },
      "source": [
        "# Lista de Exercício 7\n",
        "### Processamento Digital de Imagens (SEL0449/SEL5895)\n",
        "\n",
        "**Instruções:**\n",
        "\n",
        " 1. Esta lista consiste em 3 exercícios.\n",
        " 1. Deve-se colocar comentários nos códigos desenvolvidos.\n",
        " 1. As perguntas devem ser respondidas também como comentários no arquivo.\n",
        " 1. Colocar seu nome e número USP abaixo.\n",
        " 1. Quaisquer problemas na execução das listas, entrar em contato com os monitores.\n",
        " 1. Depois de terminado os exercícios, deve ser gerado um arquivo **extensão .ipynb** para ser enviado ao professor pelo E-DISCIPLINAS da disciplina até a data máxima de entrega.\n",
        " 1. Caso não seja enviado, o aluno ficará sem nota.\n",
        "\n",
        "\n",
        "---\n",
        "\n",
        "\n",
        "\n",
        " <table class=\"tfo-notebook-buttons\" align=\"left\">\n",
        "  <td>\n",
        "    <a target=\"_blank\" href=\"https://colab.research.google.com/github/LAVI-USP/SEL0449-SEL5895_2022/blob/main/praticas/Lista_de_Exercicio_7.ipynb\"><img src=\"https://www.tensorflow.org/images/colab_logo_32px.png\" />Executar no Google Colab</a>\n",
        "  </td>\n",
        "  <td>\n",
        "    <a target=\"_blank\" href=\"https://github.com/LAVI-USP/SEL0449-SEL5895_2022/blob/main/praticas/Lista_de_Exercicio_7.ipynb\"><img src=\"https://www.tensorflow.org/images/GitHub-Mark-32px.png\" />Ver codigo fonte no GitHub</a>\n",
        "  </td>\n",
        "</table>\n"
      ]
    },
    {
      "cell_type": "markdown",
      "metadata": {
        "id": "L3qYz1dB-tlT"
      },
      "source": [
        "`Nome: `\n",
        "\n",
        "`Número USP: `"
      ]
    },
    {
      "cell_type": "markdown",
      "metadata": {
        "id": "b9uBe7nevota"
      },
      "source": [
        "### Introdução:\n",
        "\n",
        "Vamos importar as bibliotecas que utilizaremos durante essa prática!"
      ]
    },
    {
      "cell_type": "code",
      "metadata": {
        "id": "xnKV2As4aCX1"
      },
      "source": [
        "import numpy as np\n",
        "import matplotlib.pyplot as plt\n",
        "import cv2 as cv"
      ],
      "execution_count": 8,
      "outputs": []
    },
    {
      "cell_type": "markdown",
      "metadata": {
        "id": "NyvxHviMpShq"
      },
      "source": [
        "#### **Atenção**: os códigos abaixo são para fazer o download das imagens (EXECUTE-OS). Os mesmos não fazem parte dessa prática. "
      ]
    },
    {
      "cell_type": "code",
      "metadata": {
        "id": "Amk5CM273Afp"
      },
      "source": [
        "import urllib.request\n",
        "\n",
        "try:\n",
        "  urllib.request.urlretrieve(\"https://github.com/LAVI-USP/SEL0449-SEL5895_2022/raw/main/imagens/pratica_07/image_degrau2.tif\", \"img_degrau.tif\")\n",
        "except:\n",
        "  print(\"[ERRO] Não foi possível fazer o download das imagens dessa prática. Entre em contato com o monitor\")\n"
      ],
      "execution_count": 9,
      "outputs": []
    },
    {
      "cell_type": "markdown",
      "metadata": {
        "id": "GHX9Y9sfpbmd"
      },
      "source": [
        "### 1) Filtragem do ruído não dependente do sinal (3.0/10.0)\n",
        "\n",
        "Nesta prática, iremos trabalhar um tipo de degração conhecida como ruído. De início, discutiremos sobre um ruído não dependende do sinal. Um dos exemplos desta categoria é o ruído Gaussiano. \n",
        "\n",
        "<center><img src=\"https://github.com/LAVI-USP/SEL0449-SEL5895_2022/raw/main/imagens/pratica_07/ruidoGaussiano.gif\" style=\"width:836px;height:266px;\" width=\"980\" height=\"300\"></center>\n",
        "\n",
        "<center><caption><b> Figura 1:</b> Imgens degradadas com diferentes níveis de ruído Gaussiano.</b></caption></center>\n",
        "\n",
        "As principais fontes de ruídos gaussianos em imagens digitais estão relacionados ao ruído térmico durante a aquisição. Em processamento de imagens digitais, o ruído gaussiano pode ser reduzido utilizando-se técnicas de filtros espaciais, que suavizam os ruídos contidos na imagem, com a desvantagem de borrá-la. \n",
        "\n",
        "1.1) Para analisar as características dessa degradação, vamos utilizar uma imagem degrau com diferentes níveis de cinza. Siga os passos abaixo:\n",
        "\n",
        "1. Carregue a imagem \"img_degrau.tif\".\n",
        "2. Agora vamos inserir ruído na imagem com desvio padrão = 7. Para isso vamos usar uma função de nome ``` InsertNoiseAWGN``` . Já disponibilizamos o escopo da função e uma descrição das entradas e saídas. Comente o que cada linha da função está exercendo.\n",
        "3. Mostre, lado a lado, a imagem original, a imagem degradada (ruidosa)  e a imagem contendo somente o ruído Gaussiano (que fora adicionado à imagem original no exercício anterior).\n",
        "\n",
        "   *   Dica:  Fazendo a subtração da imagem ruidosa pela imagem original, o que sobra é somente o ruído que foi adicionado.\n",
        "   \n",
        "4. Calcule a média e variância **sobre cada degrau de cinza** na imagem ruidosa e em seguida plote o gráfico de Média (Eixo X) e Variância (Eixo Y).\n",
        "5. Comente sobre o comportamento da variância em relação à média.\n"
      ]
    },
    {
      "cell_type": "code",
      "source": [
        "def InsertNoiseAWGN(img, stdNoise):\n",
        "  '''\n",
        "  Entrada:\n",
        "    - img: Imagem de entrada (uint8).\n",
        "    - stdNoise: Desvio padrão do ruído.\n",
        "  \n",
        "  Saída:\n",
        "    - imgNoisy: Imagem com ruído AWGN .\n",
        "  '''\n",
        "  nRows, nCols = img.shape\n",
        "  noise =  stdNoise * np.random.normal(size=(nRows,nCols)).astype(float)\n",
        "  imgNoisy = img + noise\n",
        "  imgNoisy = imgNoisy.astype('uint8')\n",
        "  return imgNoisy\n",
        "\n",
        "## -- Seu código começa AQUI -- ##\n",
        "\n",
        "## -- Seu código termina AQUI -- ##\n",
        "\n",
        "## Comentários:"
      ],
      "metadata": {
        "id": "yoUu5p0m3naO"
      },
      "execution_count": 10,
      "outputs": []
    },
    {
      "cell_type": "markdown",
      "source": [
        "1.2) Para realizarmos a filtragem da imagem, utilizaremos a função ```cv.fastNlMeansDenoising``` disponibilizada nas bibliotecas já carregadas. Essa função possui alguns parâmetros de entrada:\n",
        "```python\n",
        "ImgFiltrada = cv.fastNlMeansDenoising(ImgRuidosa, h, search_window , block_size)\n",
        "```\n",
        "<br>em que h está relacionado com o desvio padrão do ruído na imagem ruidosa, *search_window* é o tamanho da janela de busca e *block_size* o tamanho da janela para matriz de pesos. \n",
        "\n",
        "1. Faça a filtragem utilizando a função explicada acima. Nesta etapa, utilize h = 7 (desvio padrão do ruído Gaussiano aplicado na imagem), search_window = 7 e  block_size = 4. </br>\n",
        "\n",
        "2. Mostre lado a lado, a imagem filtrada e a imagem ruidosa.\n",
        "\n",
        "\n",
        "3. Calcule e mostre a relação sinal ruído (*Signal to Noise Ratio* - SNR) dividindo a média do sinal (μ) pelo desvio padrão (σ) para **cada uma das quatro regiões**. Fazer este cálculo tanto para imagem filtrada quanto para a imagem ruidosa.\n",
        "$$ SNR = \\dfrac{μ}{σ}$$\n",
        "\n",
        "4.  Calcule o ganho de qualidade da imagem por meio da divisão entre o SNR depois da filtragem com o antes da filtragem. Houve algum ganho?\n",
        "$$ Ganho =\\dfrac{SRN_{depois}}{SRN_{antes}}$$"
      ],
      "metadata": {
        "id": "6J_lFMgd3B5g"
      }
    },
    {
      "cell_type": "code",
      "metadata": {
        "id": "ISq5gSqGEtwv"
      },
      "source": [
        "## -- Seu código começa AQUI -- ##\n",
        "\n",
        "## -- Seu código termina AQUI -- ##\n",
        "\n",
        "## Comentários:\n"
      ],
      "execution_count": 11,
      "outputs": []
    },
    {
      "cell_type": "markdown",
      "metadata": {
        "id": "TwwGkNZmTZMi"
      },
      "source": [
        "### 2) Filtragem do Ruído dependente do sinal (Poisson) (3.5/10.0)\n",
        "\n",
        "Agora vamos trabalhar com um tipo de ruído que possui dependência com sinal: o ruído Poisson. \n",
        "\n",
        "<center><img src=\"https://raw.githubusercontent.com/LAVI-USP/SEL0449-SEL5895_2022/main/imagens/pratica_07/RuidoPoisson.gif\" style=\"width:836px;height:266px;\" width=\"980\" height=\"300\"></center>\n",
        "\n",
        "<center><caption><b> Figura 1:</b> Imgens degradadas com diferentes níveis de ruído Poisson.</b></caption></center>\n",
        "\n",
        "Esse ruído é comumente encontrado em dispositivos que se valem da contagem de fótons para a aquisição de imagem, como por exemplo exames de raios X (mamografia, tomografia, fluoroscopia e etc). De forma geral, quanto mais fótons contados pelos detectores, maior será o valor de intensidade do pixel. Contudo, devido à variação no número de fótons detectados, o valor de um pixel é influenciado por uma degradação cuja variância é proporcional à intensidade de luz captada por aquele pixel.\n",
        "\n",
        "2.1) Para entendermos melhor esse tipo de ruído, siga as instruções abaixo:\n",
        "\n",
        "1. Insira ruído Poisson na imagem degrau. Para isso vamos usar uma função de nome ```InsertNoisePoisson```. Já disponibilizamos o escopo da função e uma descrição das entradas e saídas. Comente o que cada linha da função está exercendo.\n",
        "2. Mostre, lado a lado, a imagem original, a imagem degradada e a imagem contendo somente o ruído Poisson (que fora adicionado à imagem original).\n",
        "3. Calcule a média e variância sobre cada degrau de cinza para a imagem ruidosa. Em seguida plote o gráfico de Média (Eixo X) e Variância (Eixo Y).\n",
        "4. Comente sobre o comportamento da variância em relação à média. Faça um comparativo em relação ao exercício 1.1 . "
      ]
    },
    {
      "cell_type": "code",
      "source": [
        "def InsertNoisePoisson(img):\n",
        "  '''\n",
        "  Entrada:\n",
        "    - img: Imagem de entrada (uint8).\n",
        "      \n",
        "  Saída:\n",
        "    - imgNoisy: Imagem com ruído Poisson .\n",
        "  '''\n",
        "  nRows, nCols = img.shape\n",
        "  poissonNoise = np.sqrt(1*img)*np.random.normal(size=(nRows,nCols))\n",
        "  imgNoisy = img + poissonNoise\n",
        "  \n",
        "  return imgNoisy\n",
        "\n",
        "## -- Seu código começa AQUI -- ##\n",
        "\n",
        "## -- Seu código termina AQUI -- ##\n",
        "\n",
        "## Comentários:"
      ],
      "metadata": {
        "id": "W2NjyAQh-ue3"
      },
      "execution_count": 12,
      "outputs": []
    },
    {
      "cell_type": "markdown",
      "source": [
        "2.2) Utilizando a função “cv.fastNlMeansDenoising”, com os mesmos parâmetros de filtragem da questão 1.2 :\n",
        "\n",
        "1. Faça a filtragem da imagem. \n",
        "```python\n",
        "ImgFiltrada = cv.fastNlMeansDenoising(ImgRuidosa, 7, 7, 4)\n",
        "```\n",
        "\n",
        "2. Mostre lado a lado, a imagem filtrada e a ruidosa.\n",
        "\n",
        "3. Calcule e mostre a relação sinal ruído (*Signal Noise Ratio* - SNR) dividindo a média do sinal (μ) pelo desvio padrão (σ) para cada uma das quatro regiões. Fazer esse cálculo tanto para imagem filtrada quanto para a imagem ruidosa.\n",
        "\n",
        "4.  Calcule o ganho de qualidade da imagem por meio da divisão entre o SNR depois da filtragem com o antes da filtragem. O que se pode concluir ao comparar com o resultado do item 4 da questão 1.2?\n"
      ],
      "metadata": {
        "id": "i3vECWZ07xfK"
      }
    },
    {
      "cell_type": "code",
      "metadata": {
        "id": "pVlhZpnxKd9w"
      },
      "source": [
        "## -- Seu código começa AQUI -- ##\n",
        "\n",
        "## -- Seu código termina AQUI -- ##\n",
        "\n",
        "## Comentários:"
      ],
      "execution_count": 13,
      "outputs": []
    },
    {
      "cell_type": "markdown",
      "metadata": {
        "id": "8mFmtpjtTlkn"
      },
      "source": [
        "### 3) Filtragem de Ruído Poisson utilizando Transformada de Anscombe (3.5/10.0)\n",
        "\n",
        "Nesta terceira parte, vamos apresentar uma outra forma de filtragem utilizando uma ferramenta de establização de variância. Para esse caso, utilizaremos a transformada de Anscombe. Siga os passos abaixo:\n",
        "\n",
        "1. Insira ruído Poisson na imagem degrau.\n",
        "2. Aplique sobre a imagem degradada a estabilização da variância por meio da transformada de Anscombe, segundo a fórmula :\n",
        "\n",
        "\n",
        "$$ f(z) = 2 (z + 3/8 )^{1/2} $$\n",
        "\n",
        "<br>onde f(z) é a imagem no domínio de Anscombe e 'z' é a imagem ruidosa, que será estabilizada.</br>\n",
        "\n",
        "3. Calcule a média e variância sobre cada degrau de cinza da imagem ***f(z)***, pós estabilização. Comente sobre o comportamento da variância em relação às diferentes médias quando utiliza-se a transformada de Anscombe.\n",
        "\n",
        "4. Após a aplicação da transformada de Anscombe, o ruído passou a ser independente do sinal e com variância igual a 1. Dessa forma, ao utilizarmos a função “cv.fastNlMeansDenoising”, o parâmetro 'h' deve ser igual a 1. Faça a filtragem da imagem no domínio de Anscombe com os parâmetros sugeridos abaixo:\n",
        "```python\n",
        "ImgFiltrada = cv.fastNlMeansDenoising(ImgRuidosa, 1, 7, 4)\n",
        "```\n",
        "\n",
        "5. Como a imagem filtrada está no domínio de Anscombe, é necessário retorná-la para o domínio inicial da imagem. Portanto, aplique a transformada inversa de Anscombe:\n",
        "\n",
        "$$ I(D) = (D/2)^{2} - 1/8 $$<br/>\n",
        "\n",
        "onde I(D) é a imagem filtrada no domínio de original e 'D' é a imagem  filtrada no domínio de Anscombe.\n",
        "\n",
        "6. Mostre lado a lado, a imagem filtrada e a ruidosa.\n",
        "\n",
        "7. Calcule e mostre a relação sinal ruído (*Signal Noise Ratio* - SNR) dividindo a média do sinal (μ) pelo desvio padrão (σ) para cada uma das três regiões. Fazer este cálculo tanto para imagem filtrada quanto para a imagem ruidosa.\n",
        "\n",
        "8.  Calcule o ganho de qualidade da imagem por meio da divisão entre o SNR depois da filtragem com o antes da filtragem. O que se pode concluir ao comparar com o resultado da questão 2.2?\n",
        "\n",
        "9. Compare a imagem filtrada (obtida neste exercício) com a imagem filtrada do exercício 2.2 e comente os resultados. \n",
        "\n",
        "\n"
      ]
    },
    {
      "cell_type": "code",
      "metadata": {
        "id": "Cseysh0HYYKC"
      },
      "source": [
        "#DICA - Neste item tome cuidado com o dtype da imagem ruidosa => 'float64'\n",
        "#Essencial para o correto funcionamento da transformada de Anscombe.\n",
        "\n",
        "\n",
        "## -- Seu código começa AQUI -- ##\n",
        "\n",
        "## -- Seu código termina AQUI -- ##\n",
        "\n",
        "## Comentários:"
      ],
      "execution_count": 14,
      "outputs": []
    }
  ]
}